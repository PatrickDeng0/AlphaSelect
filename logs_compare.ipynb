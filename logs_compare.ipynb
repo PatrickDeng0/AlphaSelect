{
 "cells": [
  {
   "cell_type": "code",
   "execution_count": 9,
   "metadata": {},
   "outputs": [],
   "source": [
    "import pandas as pd\n",
    "import pickle, os, re\n",
    "\n",
    "\n",
    "def collect(df_dict):\n",
    "    mode_dict = {'0':'interday', '1':'intraday'}\n",
    "    act_dict = {'r':'relu', 't':'tanh', 's':'sigmoid'}\n",
    "\n",
    "    hy_params = os.listdir('logs/')\n",
    "    for hy_param in hy_params:\n",
    "        hypers = hy_param.split('_')\n",
    "        if len(hypers) < 4:\n",
    "            continue\n",
    "\n",
    "        act_hy_params = os.listdir('logs/'+hy_param+'/')\n",
    "        for act_hy_param in act_hy_params:\n",
    "            if len(act_hy_param.split('.')) > 1:\n",
    "                continue\n",
    "\n",
    "            items = os.listdir('logs/' + hy_param + '/' + act_hy_param + '/')\n",
    "            for item in items:\n",
    "                if item.endswith('.pkl'):\n",
    "                    model_name = item.split('_')[0]\n",
    "                    with open('logs/' + hy_param + '/' + act_hy_param + '/' + item, 'rb') as file:\n",
    "                        history, test_loss, test_metrics = pickle.load(file)\n",
    "                    history_df = pd.DataFrame(history)\n",
    "                    insert = [int(hypers[0]), mode_dict[hypers[1]], hypers[2], hypers[3], act_dict[act_hy_param],\n",
    "                              history_df['IC'].values[-1], history_df['val_IC'].values[-1], test_metrics]\n",
    "                    df_dict[model_name].loc[len(df_dict[model_name])] = insert\n",
    "    return df_dict"
   ]
  },
  {
   "cell_type": "code",
   "execution_count": 25,
   "metadata": {},
   "outputs": [],
   "source": [
    "df_dict = {}\n",
    "models = ['x', 'y', 'cnn', 'lstm', 'bilstm', 'tcn']\n",
    "for model in models:\n",
    "    df_dict[model] = pd.DataFrame(columns=['size','mode','bar','market','activation','train','valid','test'])\n",
    "result = collect(df_dict)\n",
    "for model, df in df_dict.items():\n",
    "    df = df.sort_values(by=['market', 'mode', 'size'], ascending=True)\n",
    "    df.index = range(len(df))\n",
    "    df_dict[model] = df\n",
    "\n"
   ]
  },
  {
   "cell_type": "code",
   "execution_count": 26,
   "metadata": {
    "scrolled": false
   },
   "outputs": [
    {
     "name": "stdout",
     "output_type": "stream",
     "text": [
      "x\n",
      "  size      mode bar market activation     train     valid      test\n",
      "0    1  interday  15      e       relu  0.102164  0.101887  0.123767\n",
      "1    2  interday  15      e       relu  0.111260  0.098029  0.125080\n",
      "2    3  interday  15      e       relu  0.109132  0.099208  0.120673\n",
      "3    4  interday  15      e       relu  0.102510  0.097800  0.120103\n",
      "4    5  interday  15      e       relu  0.103635  0.092588  0.119229\n",
      "y\n",
      "  size      mode bar market activation     train     valid      test\n",
      "0    1  intraday   2      e       relu  0.097292  0.099797  0.097772\n",
      "1    2  intraday   2      e       relu  0.100840  0.102344  0.102600\n",
      "2    3  intraday   2      e       relu  0.100264  0.110733  0.111958\n",
      "3    4  intraday   2      e       relu  0.097413  0.098850  0.098556\n",
      "4    5  intraday   2      e       relu  0.010558  0.009422  0.011884\n",
      "cnn\n",
      "  size      mode bar market activation     train     valid      test\n",
      "0    1  interday  15      e       relu  0.073136  0.084094  0.105808\n",
      "1    2  interday  15      e       relu  0.059584  0.084015  0.098912\n",
      "2    3  interday  15      e       relu  0.075315  0.085295  0.104407\n",
      "3    4  interday  15      e       relu  0.095630  0.092024  0.110381\n",
      "4    5  interday  15      e       relu  0.102530  0.093788  0.120530\n",
      "5    1  intraday   2      e       relu  0.071952  0.083145  0.082746\n",
      "6    2  intraday   2      e       relu  0.088483  0.101953  0.101251\n",
      "7    3  intraday   2      e       relu  0.108192  0.116242  0.117816\n",
      "8    4  intraday   2      e       relu  0.094048  0.107047  0.107658\n",
      "9    5  intraday   2      e       relu  0.062699  0.072283  0.082635\n",
      "lstm\n",
      "Empty DataFrame\n",
      "Columns: [size, mode, bar, market, activation, train, valid, test]\n",
      "Index: []\n",
      "bilstm\n",
      "Empty DataFrame\n",
      "Columns: [size, mode, bar, market, activation, train, valid, test]\n",
      "Index: []\n",
      "tcn\n",
      "Empty DataFrame\n",
      "Columns: [size, mode, bar, market, activation, train, valid, test]\n",
      "Index: []\n"
     ]
    }
   ],
   "source": [
    "for model, df in df_dict.items():\n",
    "    print(model)\n",
    "    print(df)"
   ]
  },
  {
   "cell_type": "code",
   "execution_count": 19,
   "metadata": {},
   "outputs": [],
   "source": [
    "import numpy as np"
   ]
  },
  {
   "cell_type": "code",
   "execution_count": 7,
   "metadata": {},
   "outputs": [],
   "source": [
    "a = np.array([1,2,4, np.nan, 4])"
   ]
  },
  {
   "cell_type": "code",
   "execution_count": 13,
   "metadata": {},
   "outputs": [
    {
     "name": "stderr",
     "output_type": "stream",
     "text": [
      "/Users/geek/anaconda3/lib/python3.7/site-packages/ipykernel_launcher.py:1: RuntimeWarning: invalid value encountered in greater\n",
      "  \"\"\"Entry point for launching an IPython kernel.\n"
     ]
    },
    {
     "data": {
      "text/plain": [
       "array([False, False,  True, False,  True])"
      ]
     },
     "execution_count": 13,
     "metadata": {},
     "output_type": "execute_result"
    }
   ],
   "source": [
    "judge = a>3\n",
    "judge"
   ]
  },
  {
   "cell_type": "code",
   "execution_count": 14,
   "metadata": {},
   "outputs": [],
   "source": [
    "b = np.array([1,1,2,np.nan,np.nan])"
   ]
  },
  {
   "cell_type": "code",
   "execution_count": 15,
   "metadata": {},
   "outputs": [
    {
     "data": {
      "text/plain": [
       "array([ 0.,  0.,  2., nan, nan])"
      ]
     },
     "execution_count": 15,
     "metadata": {},
     "output_type": "execute_result"
    }
   ],
   "source": [
    "judge*b"
   ]
  },
  {
   "cell_type": "code",
   "execution_count": 20,
   "metadata": {},
   "outputs": [],
   "source": [
    "a = np.array([1,2,3,4,5,6])"
   ]
  },
  {
   "cell_type": "code",
   "execution_count": 22,
   "metadata": {},
   "outputs": [
    {
     "data": {
      "text/plain": [
       "4"
      ]
     },
     "execution_count": 22,
     "metadata": {},
     "output_type": "execute_result"
    }
   ],
   "source": [
    "np.sum(a<=4)"
   ]
  },
  {
   "cell_type": "code",
   "execution_count": null,
   "metadata": {},
   "outputs": [],
   "source": []
  }
 ],
 "metadata": {
  "kernelspec": {
   "display_name": "Python 3",
   "language": "python",
   "name": "python3"
  },
  "language_info": {
   "codemirror_mode": {
    "name": "ipython",
    "version": 3
   },
   "file_extension": ".py",
   "mimetype": "text/x-python",
   "name": "python",
   "nbconvert_exporter": "python",
   "pygments_lexer": "ipython3",
   "version": "3.7.3"
  }
 },
 "nbformat": 4,
 "nbformat_minor": 4
}
