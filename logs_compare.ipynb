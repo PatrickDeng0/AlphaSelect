{
 "cells": [
  {
   "cell_type": "code",
   "execution_count": 1,
   "metadata": {},
   "outputs": [],
   "source": [
    "import pandas as pd\n",
    "import pickle, os, re\n",
    "\n",
    "\n",
    "def collect(df_dict):\n",
    "    mode_dict = {'0':'interday', '1':'intraday'}\n",
    "    act_dict = {'r':'relu', 't':'tanh', 's':'sigmoid'}\n",
    "\n",
    "    hy_params = os.listdir('logs/')\n",
    "    for hy_param in hy_params:\n",
    "        hypers = hy_param.split('_')\n",
    "        if len(hypers) < 3:\n",
    "            continue\n",
    "\n",
    "        act_hy_params = os.listdir('logs/'+hy_param+'/')\n",
    "        for act_hy_param in act_hy_params:\n",
    "            if len(act_hy_param.split('.')) > 1:\n",
    "                continue\n",
    "\n",
    "            items = os.listdir('logs/' + hy_param + '/' + act_hy_param + '/')\n",
    "            for item in items:\n",
    "                if item.endswith('.pkl'):\n",
    "                    model_name = item.split('_')[0]\n",
    "                    with open('logs/' + hy_param + '/' + act_hy_param + '/' + item, 'rb') as file:\n",
    "                        history, test_loss, test_metrics = pickle.load(file)\n",
    "                    history_df = pd.DataFrame(history)\n",
    "                    insert = [int(hypers[0]), mode_dict[hypers[1]], hypers[2], act_dict[act_hy_param],\n",
    "                              history_df['IC'].values[-1], history_df['val_IC'].values[-1], test_metrics]\n",
    "                    df_dict[model_name].loc[len(df_dict[model_name])] = insert\n",
    "    return df_dict\n"
   ]
  },
  {
   "cell_type": "code",
   "execution_count": 2,
   "metadata": {},
   "outputs": [],
   "source": [
    "df_dict = {}\n",
    "models = ['x', 'y', 'cnn', 'lstm', 'bilstm', 'tcn']\n",
    "for model in models:\n",
    "    df_dict[model] = pd.DataFrame(columns=['size','mode','bar','activation','train','valid','test'])\n",
    "result = collect(df_dict)\n",
    "for model, df in df_dict.items():\n",
    "    df = df.sort_values(by=['mode', 'size'], ascending=True)\n",
    "    df.index = range(len(df))\n",
    "    df_dict[model] = df"
   ]
  },
  {
   "cell_type": "code",
   "execution_count": 3,
   "metadata": {
    "scrolled": false
   },
   "outputs": [
    {
     "name": "stdout",
     "output_type": "stream",
     "text": [
      "x\n",
      "   size      mode bar activation     train     valid      test\n",
      "0     1  interday  15       relu  0.162972  0.117890  0.111033\n",
      "1     1  interday  15       tanh  0.156221  0.120002  0.112930\n",
      "2     2  interday  15       relu  0.178950  0.120888  0.110274\n",
      "3     2  interday  15       tanh  0.151143  0.115050  0.105339\n",
      "4     3  interday  15       relu  0.133585  0.105646  0.115486\n",
      "5     3  interday  15       tanh  0.157021  0.119504  0.113589\n",
      "6     4  interday  15       relu  0.164958  0.124429  0.109592\n",
      "7     4  interday  15       tanh  0.136303  0.111084  0.099377\n",
      "8     5  interday  15       relu  0.138214  0.120895  0.112768\n",
      "9     5  interday  15       tanh  0.149269  0.109314  0.102369\n",
      "10    6  interday  15       relu  0.149612  0.133890  0.117709\n",
      "11    6  interday  15       tanh  0.138008  0.120292  0.119182\n",
      "12    7  interday  15       relu  0.131314  0.115192  0.109539\n",
      "13    7  interday  15       tanh  0.131349  0.120436  0.118966\n",
      "14    8  interday  15       relu  0.132050  0.117263  0.118220\n",
      "15    8  interday  15       tanh  0.138573  0.107774  0.104945\n",
      "16    9  interday  15       relu  0.135585  0.116500  0.108740\n",
      "17    9  interday  15       tanh  0.131813  0.115556  0.106658\n",
      "y\n",
      "   size      mode bar activation     train     valid      test\n",
      "0     1  intraday   2       relu  0.143209  0.105422  0.095184\n",
      "1     1  intraday   2       tanh  0.134367  0.107527  0.093171\n",
      "2     2  intraday   2       relu  0.146715  0.113563  0.112200\n",
      "3     2  intraday   2       tanh  0.113794  0.107617  0.104223\n",
      "4     3  intraday   2       relu  0.153143  0.113681  0.107018\n",
      "5     3  intraday   2       tanh  0.128390  0.119975  0.097898\n",
      "6     4  intraday   2       relu  0.134256  0.111106  0.101606\n",
      "7     4  intraday   2       tanh  0.098399  0.101560  0.090348\n",
      "8     5  intraday   2       relu  0.120991  0.113073  0.107397\n",
      "9     5  intraday   2       tanh  0.101975  0.114126  0.117909\n",
      "10    6  intraday   2       relu  0.126238  0.121036  0.102684\n",
      "11    6  intraday   2       tanh  0.099648  0.111811  0.088193\n",
      "12    7  intraday   2       relu  0.104515  0.103610  0.098911\n",
      "13    7  intraday   2       tanh  0.100456  0.099829  0.093397\n",
      "14    8  intraday   2       relu  0.095200  0.114376  0.098421\n",
      "15    8  intraday   2       tanh  0.103116  0.109702  0.100687\n",
      "16    9  intraday   2       relu  0.099326  0.115015  0.098096\n",
      "17    9  intraday   2       tanh  0.089093  0.100502  0.081729\n",
      "cnn\n",
      "   size      mode bar activation     train     valid      test\n",
      "0     1  interday  15       relu  0.146263  0.104243  0.096861\n",
      "1     1  interday  15       tanh  0.141804  0.114298  0.103769\n",
      "2     2  interday  15       relu  0.142242  0.107229  0.110305\n",
      "3     2  interday  15       tanh  0.126474  0.093322  0.100932\n",
      "4     3  interday  15       relu  0.158822  0.113351  0.104228\n",
      "5     3  interday  15       tanh  0.099359  0.096589  0.098308\n",
      "6     4  interday  15       relu  0.196583  0.105668  0.092292\n",
      "7     4  interday  15       tanh  0.140954  0.101805  0.093199\n",
      "8     5  interday  15       relu  0.178676  0.096002  0.104857\n",
      "9     5  interday  15       tanh  0.179388  0.110509  0.101357\n",
      "10    6  interday  15       relu  0.190819  0.097400  0.108349\n",
      "11    6  interday  15       tanh  0.161898  0.101407  0.103002\n",
      "12    7  interday  15       relu  0.179139  0.088708  0.095336\n",
      "13    7  interday  15       tanh  0.169672  0.089717  0.095159\n",
      "14    8  interday  15       relu  0.224919  0.098966  0.103117\n",
      "15    8  interday  15       tanh  0.212130  0.088866  0.086317\n",
      "16    9  interday  15       relu  0.214418  0.095455  0.101347\n",
      "17    9  interday  15       tanh  0.133613  0.084369  0.094623\n",
      "18    1  intraday   2       relu  0.137252  0.103428  0.090458\n",
      "19    1  intraday   2       tanh  0.123451  0.098364  0.094649\n",
      "20    2  intraday   2       relu  0.176238  0.107253  0.111538\n",
      "21    2  intraday   2       tanh  0.138076  0.105960  0.098676\n",
      "22    3  intraday   2       relu  0.020994  0.033224  0.034820\n",
      "23    3  intraday   2       tanh  0.126400  0.108976  0.091490\n",
      "24    4  intraday   2       relu  0.184149  0.102479  0.087933\n",
      "25    4  intraday   2       tanh  0.158928  0.096816  0.096533\n",
      "26    5  intraday   2       relu  0.206369  0.098034  0.098864\n",
      "27    5  intraday   2       tanh  0.161200  0.110137  0.102331\n",
      "28    6  intraday   2       relu  0.202311  0.101580  0.094303\n",
      "29    6  intraday   2       tanh  0.120701  0.093242  0.082044\n",
      "30    7  intraday   2       relu  0.206265  0.097238  0.099190\n",
      "31    7  intraday   2       tanh  0.144014  0.095001  0.100825\n",
      "32    8  intraday   2       relu  0.204151  0.096205  0.090715\n",
      "33    8  intraday   2       tanh  0.170646  0.093504  0.088612\n",
      "34    9  intraday   2       relu  0.215202  0.098392  0.091903\n",
      "35    9  intraday   2       tanh  0.088015  0.090776  0.084057\n",
      "lstm\n",
      "   size      mode bar activation     train     valid      test\n",
      "0     1  interday  15       relu  0.115856  0.108256  0.090676\n",
      "1     1  interday  15       tanh  0.112137  0.117630  0.101725\n",
      "2     2  interday  15       relu  0.104257  0.099527  0.097868\n",
      "3     2  interday  15       tanh  0.115844  0.118104  0.103222\n",
      "4     3  interday  15       relu  0.116174  0.108648  0.101011\n",
      "5     3  interday  15       tanh  0.113086  0.113595  0.104563\n",
      "6     4  interday  15       relu  0.111675  0.103342  0.095314\n",
      "7     4  interday  15       tanh  0.105959  0.104176  0.089240\n",
      "8     5  interday  15       relu  0.106316  0.097829  0.082074\n",
      "9     5  interday  15       tanh  0.104474  0.103492  0.101719\n",
      "10    6  interday  15       relu  0.099908  0.096805  0.096842\n",
      "11    6  interday  15       tanh  0.090936  0.093316  0.090749\n",
      "12    7  interday  15       relu  0.097736  0.093969  0.093680\n",
      "13    7  interday  15       tanh  0.107139  0.114525  0.107234\n",
      "14    8  interday  15       relu  0.109548  0.107573  0.099584\n",
      "15    8  interday  15       tanh  0.097368  0.090475  0.097971\n",
      "16    9  interday  15       relu  0.079600  0.061821  0.070417\n",
      "17    9  interday  15       tanh  0.108389  0.111756  0.104447\n",
      "18    1  intraday   2       relu  0.115294  0.093845  0.087237\n",
      "19    1  intraday   2       tanh  0.102105  0.099118  0.090182\n",
      "20    2  intraday   2       relu  0.104425  0.114088  0.112695\n",
      "21    2  intraday   2       tanh  0.111218  0.112395  0.104085\n",
      "22    3  intraday   2       relu  0.086632  0.100776  0.089800\n",
      "23    3  intraday   2       tanh  0.087321  0.094084  0.081319\n",
      "24    4  intraday   2       relu  0.060488  0.057073  0.059020\n",
      "25    4  intraday   2       tanh  0.080716  0.084525  0.086550\n",
      "26    5  intraday   2       relu  0.077765  0.081317  0.087323\n",
      "27    5  intraday   2       tanh  0.061317  0.078158  0.094426\n",
      "28    6  intraday   2       relu  0.085570  0.099535  0.080933\n",
      "29    6  intraday   2       tanh  0.093951  0.100695  0.087008\n",
      "30    7  intraday   2       relu  0.069545  0.072009  0.068704\n",
      "31    7  intraday   2       tanh  0.063049  0.072358  0.069380\n",
      "32    8  intraday   2       relu  0.088099  0.095021  0.090963\n",
      "33    8  intraday   2       tanh  0.091751  0.100414  0.100098\n",
      "34    9  intraday   2       relu  0.073489  0.087223  0.073144\n",
      "35    9  intraday   2       tanh  0.101257  0.107728  0.099084\n",
      "bilstm\n",
      "   size      mode bar activation     train     valid      test\n",
      "0     1  interday  15       relu  0.112088  0.105342  0.093336\n",
      "1     1  interday  15       tanh  0.114654  0.119138  0.101157\n",
      "2     2  interday  15       relu  0.116665  0.105692  0.089479\n",
      "3     2  interday  15       tanh  0.118051  0.114965  0.100462\n",
      "4     3  interday  15       relu  0.098691  0.081505  0.086011\n",
      "5     3  interday  15       tanh  0.109181  0.090827  0.097664\n",
      "6     4  interday  15       relu  0.094879  0.086148  0.084343\n",
      "7     4  interday  15       tanh  0.114255  0.091818  0.088542\n",
      "8     5  interday  15       relu  0.113019  0.099716  0.090102\n",
      "9     5  interday  15       tanh  0.092188  0.070249  0.084151\n",
      "10    6  interday  15       relu  0.100288  0.094476  0.098797\n",
      "11    6  interday  15       tanh  0.109514  0.108095  0.105678\n",
      "12    7  interday  15       relu  0.101549  0.079791  0.076434\n",
      "13    7  interday  15       tanh  0.099290  0.093262  0.090155\n",
      "14    8  interday  15       relu  0.111453  0.095493  0.099578\n",
      "15    8  interday  15       tanh  0.108368  0.106659  0.107512\n",
      "16    9  interday  15       relu  0.068564  0.048776  0.065074\n",
      "17    9  interday  15       tanh  0.115588  0.108302  0.102098\n",
      "18    1  intraday   2       relu  0.137587  0.109596  0.102111\n",
      "19    1  intraday   2       tanh  0.122281  0.115865  0.106827\n",
      "20    2  intraday   2       relu  0.068117  0.060521  0.068938\n",
      "21    2  intraday   2       tanh  0.099813  0.094764  0.090670\n",
      "22    3  intraday   2       relu  0.099650  0.099151  0.083846\n",
      "23    3  intraday   2       tanh  0.071083  0.071234  0.069452\n",
      "24    4  intraday   2       relu  0.085301  0.071587  0.081558\n",
      "25    4  intraday   2       tanh  0.107369  0.091845  0.098302\n",
      "26    5  intraday   2       relu  0.066709  0.059745  0.066895\n",
      "27    5  intraday   2       tanh  0.078294  0.076406  0.097061\n",
      "28    6  intraday   2       relu  0.088427  0.086763  0.078153\n",
      "29    6  intraday   2       tanh  0.080014  0.076417  0.073618\n",
      "30    7  intraday   2       relu  0.084092  0.079981  0.075981\n",
      "31    7  intraday   2       tanh  0.094136  0.098442  0.093404\n",
      "32    8  intraday   2       relu  0.076002  0.069178  0.064532\n",
      "33    8  intraday   2       tanh  0.082076  0.077634  0.068945\n",
      "34    9  intraday   2       relu  0.060999  0.065502  0.054263\n",
      "35    9  intraday   2       tanh  0.076178  0.073821  0.061708\n",
      "tcn\n",
      "Empty DataFrame\n",
      "Columns: [size, mode, bar, activation, train, valid, test]\n",
      "Index: []\n"
     ]
    }
   ],
   "source": [
    "for model, df in df_dict.items():\n",
    "    print(model)\n",
    "    print(df)"
   ]
  },
  {
   "cell_type": "code",
   "execution_count": 6,
   "metadata": {},
   "outputs": [],
   "source": [
    "import numpy as np"
   ]
  },
  {
   "cell_type": "code",
   "execution_count": 7,
   "metadata": {},
   "outputs": [],
   "source": [
    "a = np.array([1,2,4, np.nan, 4])"
   ]
  },
  {
   "cell_type": "code",
   "execution_count": 13,
   "metadata": {},
   "outputs": [
    {
     "name": "stderr",
     "output_type": "stream",
     "text": [
      "/Users/geek/anaconda3/lib/python3.7/site-packages/ipykernel_launcher.py:1: RuntimeWarning: invalid value encountered in greater\n",
      "  \"\"\"Entry point for launching an IPython kernel.\n"
     ]
    },
    {
     "data": {
      "text/plain": [
       "array([False, False,  True, False,  True])"
      ]
     },
     "execution_count": 13,
     "metadata": {},
     "output_type": "execute_result"
    }
   ],
   "source": [
    "judge = a>3\n",
    "judge"
   ]
  },
  {
   "cell_type": "code",
   "execution_count": 14,
   "metadata": {},
   "outputs": [],
   "source": [
    "b = np.array([1,1,2,np.nan,np.nan])"
   ]
  },
  {
   "cell_type": "code",
   "execution_count": 15,
   "metadata": {},
   "outputs": [
    {
     "data": {
      "text/plain": [
       "array([ 0.,  0.,  2., nan, nan])"
      ]
     },
     "execution_count": 15,
     "metadata": {},
     "output_type": "execute_result"
    }
   ],
   "source": [
    "judge*b"
   ]
  },
  {
   "cell_type": "code",
   "execution_count": null,
   "metadata": {},
   "outputs": [],
   "source": []
  }
 ],
 "metadata": {
  "kernelspec": {
   "display_name": "Python 3",
   "language": "python",
   "name": "python3"
  },
  "language_info": {
   "codemirror_mode": {
    "name": "ipython",
    "version": 3
   },
   "file_extension": ".py",
   "mimetype": "text/x-python",
   "name": "python",
   "nbconvert_exporter": "python",
   "pygments_lexer": "ipython3",
   "version": "3.7.3"
  }
 },
 "nbformat": 4,
 "nbformat_minor": 4
}
