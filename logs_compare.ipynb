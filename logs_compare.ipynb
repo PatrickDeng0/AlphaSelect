{
 "cells": [
  {
   "cell_type": "code",
   "execution_count": 15,
   "metadata": {},
   "outputs": [],
   "source": [
    "import pandas as pd\n",
    "import pickle, os, re\n",
    "\n",
    "\n",
    "def collect(df_dict):\n",
    "    mode_dict = {'0':'interday', '1':'intraday'}\n",
    "    act_dict = {'r':'relu', 't':'tanh', 's':'sigmoid'}\n",
    "\n",
    "    hy_params = os.listdir('logs/')\n",
    "    for hy_param in hy_params:\n",
    "        hypers = hy_param.split('_')\n",
    "        if len(hypers) < 3:\n",
    "            continue\n",
    "\n",
    "        act_hy_params = os.listdir('logs/'+hy_param+'/')\n",
    "        for act_hy_param in act_hy_params:\n",
    "            if len(act_hy_param.split('.')) > 1:\n",
    "                continue\n",
    "\n",
    "            items = os.listdir('logs/' + hy_param + '/' + act_hy_param + '/')\n",
    "            for item in items:\n",
    "                if item.endswith('.pkl'):\n",
    "                    model_name = item.split('_')[0]\n",
    "                    with open('logs/' + hy_param + '/' + act_hy_param + '/' + item, 'rb') as file:\n",
    "                        history, test_loss, test_metrics = pickle.load(file)\n",
    "                    history_df = pd.DataFrame(history)\n",
    "                    insert = [int(hypers[0]), mode_dict[hypers[1]], hypers[2], act_dict[act_hy_param],\n",
    "                              history_df['IC'].values[-1], history_df['val_IC'].values[-1], test_metrics]\n",
    "                    df_dict[model_name].loc[len(df_dict[model_name])] = insert\n",
    "    return df_dict\n"
   ]
  },
  {
   "cell_type": "code",
   "execution_count": 16,
   "metadata": {},
   "outputs": [],
   "source": [
    "df_dict = {}\n",
    "models = ['x', 'y', 'cnn', 'lstm', 'bilstm', 'tcn']\n",
    "for model in models:\n",
    "    df_dict[model] = pd.DataFrame(columns=['size','mode','bar','activation','train','valid','test'])\n",
    "result = collect(df_dict)\n",
    "for model, df in df_dict.items():\n",
    "    df = df.sort_values(by=['mode', 'size'], ascending=True)\n",
    "    df.index = range(len(df))\n",
    "    df_dict[model] = df"
   ]
  },
  {
   "cell_type": "code",
   "execution_count": 17,
   "metadata": {},
   "outputs": [
    {
     "name": "stdout",
     "output_type": "stream",
     "text": [
      "x\n",
      "   size      mode bar activation     train     valid      test\n",
      "0     1  interday  15       relu  0.157585  0.118602  0.122097\n",
      "1     1  interday  15       tanh  0.126806  0.110878  0.113502\n",
      "2     2  interday  15       relu  0.153810  0.121954  0.115141\n",
      "3     2  interday  15       tanh  0.152344  0.109738  0.107553\n",
      "4     3  interday  15       relu  0.143074  0.111522  0.111883\n",
      "5     3  interday  15       tanh  0.154202  0.111011  0.100136\n",
      "6     4  interday  15       relu  0.101757  0.099952  0.103036\n",
      "7     4  interday  15       tanh  0.125259  0.109379  0.107225\n",
      "8     5  interday  15       relu  0.149804  0.125903  0.114034\n",
      "9     5  interday  15       tanh  0.118241  0.102972  0.104816\n",
      "10    6  interday  15       relu  0.134866  0.119310  0.114086\n",
      "11    6  interday  15       tanh  0.122918  0.111860  0.112252\n",
      "12    8  interday  15       relu  0.115946  0.107686  0.106489\n",
      "13    8  interday  15       tanh  0.134878  0.117650  0.109433\n",
      "14    9  interday  15       relu  0.145092  0.122026  0.114491\n",
      "15    9  interday  15       tanh  0.134411  0.118869  0.108470\n",
      "16   10  interday  15       relu  0.131131  0.115699  0.110474\n",
      "17   10  interday  15       tanh  0.106947  0.108374  0.101343\n",
      "y\n",
      "Empty DataFrame\n",
      "Columns: [size, mode, bar, activation, train, valid, test]\n",
      "Index: []\n",
      "cnn\n",
      "   size      mode bar activation     train     valid      test\n",
      "0     1  interday  15       relu  0.115270  0.098568  0.101993\n",
      "1     1  interday  15       tanh  0.128598  0.104347  0.100825\n",
      "2     2  interday  15       relu  0.119926  0.105421  0.102044\n",
      "3     2  interday  15       tanh  0.122233  0.093677  0.093634\n",
      "4     3  interday  15       relu  0.166840  0.110861  0.106398\n",
      "5     3  interday  15       tanh  0.125252  0.089880  0.094527\n",
      "6     4  interday  15       relu  0.115833  0.093584  0.104744\n",
      "7     4  interday  15       tanh  0.127383  0.104156  0.102025\n",
      "8     5  interday  15       relu  0.173967  0.102054  0.102222\n",
      "9     5  interday  15       tanh  0.061023  0.084599  0.081604\n",
      "10    6  interday  15       relu  0.140718  0.097247  0.106622\n",
      "11    6  interday  15       tanh  0.142830  0.087115  0.094412\n",
      "12    8  interday  15       relu  0.172035  0.096854  0.100865\n",
      "13    8  interday  15       tanh  0.108236  0.099689  0.103720\n",
      "14    9  interday  15       relu  0.130319  0.088609  0.104794\n",
      "15    9  interday  15       tanh  0.105866  0.095298  0.106388\n",
      "16   10  interday  15       relu  0.142116  0.078112  0.089285\n",
      "17   10  interday  15       tanh  0.152002  0.096819  0.089465\n",
      "lstm\n",
      "   size      mode bar activation     train     valid      test\n",
      "0     1  interday  15       relu  0.109086  0.112639  0.094794\n",
      "1     1  interday  15       tanh  0.112598  0.124306  0.107218\n",
      "2     2  interday  15       relu  0.102666  0.103755  0.099820\n",
      "3     2  interday  15       tanh  0.108062  0.114312  0.102345\n",
      "4     3  interday  15       relu  0.104552  0.102285  0.097532\n",
      "5     3  interday  15       tanh  0.105569  0.099979  0.096061\n",
      "6     4  interday  15       relu  0.104579  0.101964  0.092843\n",
      "7     4  interday  15       tanh  0.111997  0.114359  0.098963\n",
      "8     5  interday  15       relu  0.097578  0.091936  0.092468\n",
      "9     5  interday  15       tanh  0.100161  0.108545  0.094721\n",
      "10    6  interday  15       relu  0.083944  0.071108  0.082709\n",
      "11    6  interday  15       tanh  0.112670  0.115973  0.111824\n",
      "12    8  interday  15       relu  0.090282  0.082832  0.073801\n",
      "13    8  interday  15       tanh  0.104054  0.112049  0.110443\n",
      "14    9  interday  15       relu  0.113334  0.112249  0.104580\n",
      "15    9  interday  15       tanh  0.099336  0.102299  0.093711\n",
      "16   10  interday  15       relu  0.087582  0.080584  0.076351\n",
      "17   10  interday  15       tanh  0.096442  0.093449  0.091059\n",
      "bilstm\n",
      "  size      mode bar activation     train     valid      test\n",
      "0    2  interday  15       relu  0.116266  0.111960  0.095116\n",
      "1    2  interday  15       tanh  0.121824  0.121017  0.100666\n",
      "2    4  interday  15       relu  0.118172  0.098025  0.094763\n",
      "3    4  interday  15       tanh  0.124012  0.107125  0.097525\n",
      "4    6  interday  15       relu  0.104188  0.093004  0.098290\n",
      "5    6  interday  15       tanh  0.111289  0.108235  0.104114\n",
      "6    8  interday  15       relu  0.104464  0.090680  0.094881\n",
      "7    8  interday  15       tanh  0.097660  0.080143  0.087128\n",
      "8   10  interday  15       relu  0.103569  0.087788  0.082918\n",
      "9   10  interday  15       tanh  0.106629  0.082317  0.079745\n",
      "tcn\n",
      "Empty DataFrame\n",
      "Columns: [size, mode, bar, activation, train, valid, test]\n",
      "Index: []\n"
     ]
    }
   ],
   "source": [
    "for model, df in df_dict.items():\n",
    "    print(model)\n",
    "    print(df)"
   ]
  },
  {
   "cell_type": "code",
   "execution_count": 19,
   "metadata": {},
   "outputs": [],
   "source": [
    "a = np.array([1,2,4, np.nan, 4])"
   ]
  },
  {
   "cell_type": "code",
   "execution_count": 24,
   "metadata": {},
   "outputs": [
    {
     "name": "stderr",
     "output_type": "stream",
     "text": [
      "/Users/geek/anaconda3/lib/python3.7/site-packages/ipykernel_launcher.py:1: RuntimeWarning: invalid value encountered in greater\n",
      "  \"\"\"Entry point for launching an IPython kernel.\n"
     ]
    },
    {
     "data": {
      "text/plain": [
       "array([False, False,  True, False,  True])"
      ]
     },
     "execution_count": 24,
     "metadata": {},
     "output_type": "execute_result"
    }
   ],
   "source": [
    "judge = a>3\n",
    "judge"
   ]
  },
  {
   "cell_type": "code",
   "execution_count": 28,
   "metadata": {},
   "outputs": [],
   "source": [
    "b = np.array([1,1,2,1,1])"
   ]
  },
  {
   "cell_type": "code",
   "execution_count": 29,
   "metadata": {},
   "outputs": [
    {
     "data": {
      "text/plain": [
       "array([0, 0, 2, 0, 1])"
      ]
     },
     "execution_count": 29,
     "metadata": {},
     "output_type": "execute_result"
    }
   ],
   "source": [
    "judge*b"
   ]
  },
  {
   "cell_type": "code",
   "execution_count": null,
   "metadata": {},
   "outputs": [],
   "source": []
  }
 ],
 "metadata": {
  "kernelspec": {
   "display_name": "Python 3",
   "language": "python",
   "name": "python3"
  },
  "language_info": {
   "codemirror_mode": {
    "name": "ipython",
    "version": 3
   },
   "file_extension": ".py",
   "mimetype": "text/x-python",
   "name": "python",
   "nbconvert_exporter": "python",
   "pygments_lexer": "ipython3",
   "version": "3.7.3"
  }
 },
 "nbformat": 4,
 "nbformat_minor": 4
}
